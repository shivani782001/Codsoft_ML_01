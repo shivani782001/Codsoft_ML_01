{
 "cells": [
  {
   "cell_type": "code",
   "execution_count": 1,
   "id": "8366a2e7-c7ee-453d-b479-4706fd79cd90",
   "metadata": {},
   "outputs": [],
   "source": [
    "import pandas as pd\n",
    "from sklearn.feature_extraction.text import TfidfVectorizer\n",
    "from sklearn.model_selection import train_test_split\n",
    "from sklearn.linear_model import LogisticRegression\n",
    "from sklearn.naive_bayes import MultinomialNB\n",
    "from sklearn.metrics import accuracy_score, classification_report"
   ]
  },
  {
   "cell_type": "code",
   "execution_count": 3,
   "id": "569c86ff-f9dd-425e-8d82-c4f956c663b9",
   "metadata": {},
   "outputs": [],
   "source": [
    "# Step 1: Load the datasets\n",
    "# Assuming the datasets are in txt format with tab-separated values\n",
    "#train_data = pd.read_csv('train_data.txt', sep='\\t')\n",
    "#test_data = pd.read_csv('test_data.txt', sep='\\t')\n",
    "\n",
    "train_path= \"train_data.txt\"\n",
    "train_data = pd.read_csv(train_path, sep=\":::\", names=[\"TITLE\", \"GENRE\", \"DESCRIPTION\"], engine=\"python\")"
   ]
  },
  {
   "cell_type": "code",
   "execution_count": 5,
   "id": "6e5f69f0-5560-4727-b4bd-863255d3444f",
   "metadata": {},
   "outputs": [
    {
     "data": {
      "text/html": [
       "<div>\n",
       "<style scoped>\n",
       "    .dataframe tbody tr th:only-of-type {\n",
       "        vertical-align: middle;\n",
       "    }\n",
       "\n",
       "    .dataframe tbody tr th {\n",
       "        vertical-align: top;\n",
       "    }\n",
       "\n",
       "    .dataframe thead th {\n",
       "        text-align: right;\n",
       "    }\n",
       "</style>\n",
       "<table border=\"1\" class=\"dataframe\">\n",
       "  <thead>\n",
       "    <tr style=\"text-align: right;\">\n",
       "      <th></th>\n",
       "      <th>TITLE</th>\n",
       "      <th>GENRE</th>\n",
       "      <th>DESCRIPTION</th>\n",
       "    </tr>\n",
       "  </thead>\n",
       "  <tbody>\n",
       "    <tr>\n",
       "      <th>1</th>\n",
       "      <td>Oscar et la dame rose (2009)</td>\n",
       "      <td>drama</td>\n",
       "      <td>Listening in to a conversation between his do...</td>\n",
       "    </tr>\n",
       "    <tr>\n",
       "      <th>2</th>\n",
       "      <td>Cupid (1997)</td>\n",
       "      <td>thriller</td>\n",
       "      <td>A brother and sister with a past incestuous r...</td>\n",
       "    </tr>\n",
       "    <tr>\n",
       "      <th>3</th>\n",
       "      <td>Young, Wild and Wonderful (1980)</td>\n",
       "      <td>adult</td>\n",
       "      <td>As the bus empties the students for their fie...</td>\n",
       "    </tr>\n",
       "    <tr>\n",
       "      <th>4</th>\n",
       "      <td>The Secret Sin (1915)</td>\n",
       "      <td>drama</td>\n",
       "      <td>To help their unemployed father make ends mee...</td>\n",
       "    </tr>\n",
       "    <tr>\n",
       "      <th>5</th>\n",
       "      <td>The Unrecovered (2007)</td>\n",
       "      <td>drama</td>\n",
       "      <td>The film's title refers not only to the un-re...</td>\n",
       "    </tr>\n",
       "    <tr>\n",
       "      <th>...</th>\n",
       "      <td>...</td>\n",
       "      <td>...</td>\n",
       "      <td>...</td>\n",
       "    </tr>\n",
       "    <tr>\n",
       "      <th>54210</th>\n",
       "      <td>\"Bonino\" (1953)</td>\n",
       "      <td>comedy</td>\n",
       "      <td>This short-lived NBC live sitcom centered on ...</td>\n",
       "    </tr>\n",
       "    <tr>\n",
       "      <th>54211</th>\n",
       "      <td>Dead Girls Don't Cry (????)</td>\n",
       "      <td>horror</td>\n",
       "      <td>The NEXT Generation of EXPLOITATION. The sist...</td>\n",
       "    </tr>\n",
       "    <tr>\n",
       "      <th>54212</th>\n",
       "      <td>Ronald Goedemondt: Ze bestaan echt (2008)</td>\n",
       "      <td>documentary</td>\n",
       "      <td>Ze bestaan echt, is a stand-up comedy about g...</td>\n",
       "    </tr>\n",
       "    <tr>\n",
       "      <th>54213</th>\n",
       "      <td>Make Your Own Bed (1944)</td>\n",
       "      <td>comedy</td>\n",
       "      <td>Walter and Vivian live in the country and hav...</td>\n",
       "    </tr>\n",
       "    <tr>\n",
       "      <th>54214</th>\n",
       "      <td>Nature's Fury: Storm of the Century (2006)</td>\n",
       "      <td>history</td>\n",
       "      <td>On Labor Day Weekend, 1935, the most intense ...</td>\n",
       "    </tr>\n",
       "  </tbody>\n",
       "</table>\n",
       "<p>54214 rows × 3 columns</p>\n",
       "</div>"
      ],
      "text/plain": [
       "                                              TITLE          GENRE  \\\n",
       "1                     Oscar et la dame rose (2009)          drama    \n",
       "2                                     Cupid (1997)       thriller    \n",
       "3                 Young, Wild and Wonderful (1980)          adult    \n",
       "4                            The Secret Sin (1915)          drama    \n",
       "5                           The Unrecovered (2007)          drama    \n",
       "...                                             ...            ...   \n",
       "54210                              \"Bonino\" (1953)         comedy    \n",
       "54211                  Dead Girls Don't Cry (????)         horror    \n",
       "54212    Ronald Goedemondt: Ze bestaan echt (2008)    documentary    \n",
       "54213                     Make Your Own Bed (1944)         comedy    \n",
       "54214   Nature's Fury: Storm of the Century (2006)        history    \n",
       "\n",
       "                                             DESCRIPTION  \n",
       "1       Listening in to a conversation between his do...  \n",
       "2       A brother and sister with a past incestuous r...  \n",
       "3       As the bus empties the students for their fie...  \n",
       "4       To help their unemployed father make ends mee...  \n",
       "5       The film's title refers not only to the un-re...  \n",
       "...                                                  ...  \n",
       "54210   This short-lived NBC live sitcom centered on ...  \n",
       "54211   The NEXT Generation of EXPLOITATION. The sist...  \n",
       "54212   Ze bestaan echt, is a stand-up comedy about g...  \n",
       "54213   Walter and Vivian live in the country and hav...  \n",
       "54214   On Labor Day Weekend, 1935, the most intense ...  \n",
       "\n",
       "[54214 rows x 3 columns]"
      ]
     },
     "execution_count": 5,
     "metadata": {},
     "output_type": "execute_result"
    }
   ],
   "source": [
    "# Step 2: Inspect the data\n",
    "train_data"
   ]
  },
  {
   "cell_type": "code",
   "execution_count": 7,
   "id": "05dffda3-5849-4879-b4ff-536e1752e47a",
   "metadata": {},
   "outputs": [],
   "source": [
    "test_path= \"test_data.txt\"\n",
    "test_data = pd.read_csv(train_path, sep=\":::\", names=[\"ID\",\"TITLE\",\"DESCRIPTION\"], engine=\"python\")"
   ]
  },
  {
   "cell_type": "code",
   "execution_count": 9,
   "id": "5f90ff60-7ad4-40cb-be23-a822c102df63",
   "metadata": {},
   "outputs": [
    {
     "data": {
      "text/html": [
       "<div>\n",
       "<style scoped>\n",
       "    .dataframe tbody tr th:only-of-type {\n",
       "        vertical-align: middle;\n",
       "    }\n",
       "\n",
       "    .dataframe tbody tr th {\n",
       "        vertical-align: top;\n",
       "    }\n",
       "\n",
       "    .dataframe thead th {\n",
       "        text-align: right;\n",
       "    }\n",
       "</style>\n",
       "<table border=\"1\" class=\"dataframe\">\n",
       "  <thead>\n",
       "    <tr style=\"text-align: right;\">\n",
       "      <th></th>\n",
       "      <th>ID</th>\n",
       "      <th>TITLE</th>\n",
       "      <th>DESCRIPTION</th>\n",
       "    </tr>\n",
       "  </thead>\n",
       "  <tbody>\n",
       "    <tr>\n",
       "      <th>1</th>\n",
       "      <td>Oscar et la dame rose (2009)</td>\n",
       "      <td>drama</td>\n",
       "      <td>Listening in to a conversation between his do...</td>\n",
       "    </tr>\n",
       "    <tr>\n",
       "      <th>2</th>\n",
       "      <td>Cupid (1997)</td>\n",
       "      <td>thriller</td>\n",
       "      <td>A brother and sister with a past incestuous r...</td>\n",
       "    </tr>\n",
       "    <tr>\n",
       "      <th>3</th>\n",
       "      <td>Young, Wild and Wonderful (1980)</td>\n",
       "      <td>adult</td>\n",
       "      <td>As the bus empties the students for their fie...</td>\n",
       "    </tr>\n",
       "    <tr>\n",
       "      <th>4</th>\n",
       "      <td>The Secret Sin (1915)</td>\n",
       "      <td>drama</td>\n",
       "      <td>To help their unemployed father make ends mee...</td>\n",
       "    </tr>\n",
       "    <tr>\n",
       "      <th>5</th>\n",
       "      <td>The Unrecovered (2007)</td>\n",
       "      <td>drama</td>\n",
       "      <td>The film's title refers not only to the un-re...</td>\n",
       "    </tr>\n",
       "    <tr>\n",
       "      <th>...</th>\n",
       "      <td>...</td>\n",
       "      <td>...</td>\n",
       "      <td>...</td>\n",
       "    </tr>\n",
       "    <tr>\n",
       "      <th>54210</th>\n",
       "      <td>\"Bonino\" (1953)</td>\n",
       "      <td>comedy</td>\n",
       "      <td>This short-lived NBC live sitcom centered on ...</td>\n",
       "    </tr>\n",
       "    <tr>\n",
       "      <th>54211</th>\n",
       "      <td>Dead Girls Don't Cry (????)</td>\n",
       "      <td>horror</td>\n",
       "      <td>The NEXT Generation of EXPLOITATION. The sist...</td>\n",
       "    </tr>\n",
       "    <tr>\n",
       "      <th>54212</th>\n",
       "      <td>Ronald Goedemondt: Ze bestaan echt (2008)</td>\n",
       "      <td>documentary</td>\n",
       "      <td>Ze bestaan echt, is a stand-up comedy about g...</td>\n",
       "    </tr>\n",
       "    <tr>\n",
       "      <th>54213</th>\n",
       "      <td>Make Your Own Bed (1944)</td>\n",
       "      <td>comedy</td>\n",
       "      <td>Walter and Vivian live in the country and hav...</td>\n",
       "    </tr>\n",
       "    <tr>\n",
       "      <th>54214</th>\n",
       "      <td>Nature's Fury: Storm of the Century (2006)</td>\n",
       "      <td>history</td>\n",
       "      <td>On Labor Day Weekend, 1935, the most intense ...</td>\n",
       "    </tr>\n",
       "  </tbody>\n",
       "</table>\n",
       "<p>54214 rows × 3 columns</p>\n",
       "</div>"
      ],
      "text/plain": [
       "                                                 ID          TITLE  \\\n",
       "1                     Oscar et la dame rose (2009)          drama    \n",
       "2                                     Cupid (1997)       thriller    \n",
       "3                 Young, Wild and Wonderful (1980)          adult    \n",
       "4                            The Secret Sin (1915)          drama    \n",
       "5                           The Unrecovered (2007)          drama    \n",
       "...                                             ...            ...   \n",
       "54210                              \"Bonino\" (1953)         comedy    \n",
       "54211                  Dead Girls Don't Cry (????)         horror    \n",
       "54212    Ronald Goedemondt: Ze bestaan echt (2008)    documentary    \n",
       "54213                     Make Your Own Bed (1944)         comedy    \n",
       "54214   Nature's Fury: Storm of the Century (2006)        history    \n",
       "\n",
       "                                             DESCRIPTION  \n",
       "1       Listening in to a conversation between his do...  \n",
       "2       A brother and sister with a past incestuous r...  \n",
       "3       As the bus empties the students for their fie...  \n",
       "4       To help their unemployed father make ends mee...  \n",
       "5       The film's title refers not only to the un-re...  \n",
       "...                                                  ...  \n",
       "54210   This short-lived NBC live sitcom centered on ...  \n",
       "54211   The NEXT Generation of EXPLOITATION. The sist...  \n",
       "54212   Ze bestaan echt, is a stand-up comedy about g...  \n",
       "54213   Walter and Vivian live in the country and hav...  \n",
       "54214   On Labor Day Weekend, 1935, the most intense ...  \n",
       "\n",
       "[54214 rows x 3 columns]"
      ]
     },
     "execution_count": 9,
     "metadata": {},
     "output_type": "execute_result"
    }
   ],
   "source": [
    "test_data"
   ]
  },
  {
   "cell_type": "code",
   "execution_count": 11,
   "id": "624c906a-9f70-4394-a73a-bee07853be1f",
   "metadata": {},
   "outputs": [
    {
     "name": "stdout",
     "output_type": "stream",
     "text": [
      "<class 'pandas.core.frame.DataFrame'>\n",
      "Index: 54214 entries, 1 to 54214\n",
      "Data columns (total 3 columns):\n",
      " #   Column       Non-Null Count  Dtype \n",
      "---  ------       --------------  ----- \n",
      " 0   TITLE        54214 non-null  object\n",
      " 1   GENRE        54214 non-null  object\n",
      " 2   DESCRIPTION  54214 non-null  object\n",
      "dtypes: object(3)\n",
      "memory usage: 1.7+ MB\n"
     ]
    }
   ],
   "source": [
    "train_data.info()"
   ]
  },
  {
   "cell_type": "code",
   "execution_count": 13,
   "id": "c7440e4b-0df2-4937-94d1-18f903111865",
   "metadata": {},
   "outputs": [
    {
     "data": {
      "text/html": [
       "<div>\n",
       "<style scoped>\n",
       "    .dataframe tbody tr th:only-of-type {\n",
       "        vertical-align: middle;\n",
       "    }\n",
       "\n",
       "    .dataframe tbody tr th {\n",
       "        vertical-align: top;\n",
       "    }\n",
       "\n",
       "    .dataframe thead th {\n",
       "        text-align: right;\n",
       "    }\n",
       "</style>\n",
       "<table border=\"1\" class=\"dataframe\">\n",
       "  <thead>\n",
       "    <tr style=\"text-align: right;\">\n",
       "      <th></th>\n",
       "      <th>TITLE</th>\n",
       "      <th>GENRE</th>\n",
       "      <th>DESCRIPTION</th>\n",
       "    </tr>\n",
       "  </thead>\n",
       "  <tbody>\n",
       "    <tr>\n",
       "      <th>count</th>\n",
       "      <td>54214</td>\n",
       "      <td>54214</td>\n",
       "      <td>54214</td>\n",
       "    </tr>\n",
       "    <tr>\n",
       "      <th>unique</th>\n",
       "      <td>54214</td>\n",
       "      <td>27</td>\n",
       "      <td>54086</td>\n",
       "    </tr>\n",
       "    <tr>\n",
       "      <th>top</th>\n",
       "      <td>Oscar et la dame rose (2009)</td>\n",
       "      <td>drama</td>\n",
       "      <td>Grammy - music award of the American academy ...</td>\n",
       "    </tr>\n",
       "    <tr>\n",
       "      <th>freq</th>\n",
       "      <td>1</td>\n",
       "      <td>13613</td>\n",
       "      <td>12</td>\n",
       "    </tr>\n",
       "  </tbody>\n",
       "</table>\n",
       "</div>"
      ],
      "text/plain": [
       "                                 TITLE    GENRE  \\\n",
       "count                            54214    54214   \n",
       "unique                           54214       27   \n",
       "top      Oscar et la dame rose (2009)    drama    \n",
       "freq                                 1    13613   \n",
       "\n",
       "                                              DESCRIPTION  \n",
       "count                                               54214  \n",
       "unique                                              54086  \n",
       "top      Grammy - music award of the American academy ...  \n",
       "freq                                                   12  "
      ]
     },
     "execution_count": 13,
     "metadata": {},
     "output_type": "execute_result"
    }
   ],
   "source": [
    "train_data.describe()"
   ]
  },
  {
   "cell_type": "code",
   "execution_count": 15,
   "id": "7323e622-51d5-4724-a84d-409bf3d5bcc1",
   "metadata": {},
   "outputs": [
    {
     "data": {
      "text/plain": [
       "TITLE          0\n",
       "GENRE          0\n",
       "DESCRIPTION    0\n",
       "dtype: int64"
      ]
     },
     "execution_count": 15,
     "metadata": {},
     "output_type": "execute_result"
    }
   ],
   "source": [
    "train_data.isnull().sum()"
   ]
  },
  {
   "cell_type": "code",
   "execution_count": 17,
   "id": "a4bc4bd7-14fc-4d7f-8b52-ebae871d6fb9",
   "metadata": {},
   "outputs": [
    {
     "name": "stdout",
     "output_type": "stream",
     "text": [
      "<class 'pandas.core.frame.DataFrame'>\n",
      "Index: 54214 entries, 1 to 54214\n",
      "Data columns (total 3 columns):\n",
      " #   Column       Non-Null Count  Dtype \n",
      "---  ------       --------------  ----- \n",
      " 0   ID           54214 non-null  object\n",
      " 1   TITLE        54214 non-null  object\n",
      " 2   DESCRIPTION  54214 non-null  object\n",
      "dtypes: object(3)\n",
      "memory usage: 1.7+ MB\n"
     ]
    }
   ],
   "source": [
    "test_data.info()"
   ]
  },
  {
   "cell_type": "code",
   "execution_count": 19,
   "id": "28bc8b5b-55a3-4236-8b59-ed0521473b06",
   "metadata": {},
   "outputs": [
    {
     "data": {
      "text/html": [
       "<div>\n",
       "<style scoped>\n",
       "    .dataframe tbody tr th:only-of-type {\n",
       "        vertical-align: middle;\n",
       "    }\n",
       "\n",
       "    .dataframe tbody tr th {\n",
       "        vertical-align: top;\n",
       "    }\n",
       "\n",
       "    .dataframe thead th {\n",
       "        text-align: right;\n",
       "    }\n",
       "</style>\n",
       "<table border=\"1\" class=\"dataframe\">\n",
       "  <thead>\n",
       "    <tr style=\"text-align: right;\">\n",
       "      <th></th>\n",
       "      <th>ID</th>\n",
       "      <th>TITLE</th>\n",
       "      <th>DESCRIPTION</th>\n",
       "    </tr>\n",
       "  </thead>\n",
       "  <tbody>\n",
       "    <tr>\n",
       "      <th>count</th>\n",
       "      <td>54214</td>\n",
       "      <td>54214</td>\n",
       "      <td>54214</td>\n",
       "    </tr>\n",
       "    <tr>\n",
       "      <th>unique</th>\n",
       "      <td>54214</td>\n",
       "      <td>27</td>\n",
       "      <td>54086</td>\n",
       "    </tr>\n",
       "    <tr>\n",
       "      <th>top</th>\n",
       "      <td>Oscar et la dame rose (2009)</td>\n",
       "      <td>drama</td>\n",
       "      <td>Grammy - music award of the American academy ...</td>\n",
       "    </tr>\n",
       "    <tr>\n",
       "      <th>freq</th>\n",
       "      <td>1</td>\n",
       "      <td>13613</td>\n",
       "      <td>12</td>\n",
       "    </tr>\n",
       "  </tbody>\n",
       "</table>\n",
       "</div>"
      ],
      "text/plain": [
       "                                    ID    TITLE  \\\n",
       "count                            54214    54214   \n",
       "unique                           54214       27   \n",
       "top      Oscar et la dame rose (2009)    drama    \n",
       "freq                                 1    13613   \n",
       "\n",
       "                                              DESCRIPTION  \n",
       "count                                               54214  \n",
       "unique                                              54086  \n",
       "top      Grammy - music award of the American academy ...  \n",
       "freq                                                   12  "
      ]
     },
     "execution_count": 19,
     "metadata": {},
     "output_type": "execute_result"
    }
   ],
   "source": [
    "test_data.describe()"
   ]
  },
  {
   "cell_type": "code",
   "execution_count": 21,
   "id": "61f8828d-8e07-4f29-963c-c039225f1ac5",
   "metadata": {},
   "outputs": [
    {
     "data": {
      "text/plain": [
       "ID             0\n",
       "TITLE          0\n",
       "DESCRIPTION    0\n",
       "dtype: int64"
      ]
     },
     "execution_count": 21,
     "metadata": {},
     "output_type": "execute_result"
    }
   ],
   "source": [
    "test_data.isnull().sum()"
   ]
  },
  {
   "cell_type": "code",
   "execution_count": 23,
   "id": "9501ac34-9013-4aa1-a44a-585a0fde54fc",
   "metadata": {},
   "outputs": [],
   "source": [
    "import matplotlib.pyplot as plt\n",
    "import seaborn as sns"
   ]
  },
  {
   "cell_type": "code",
   "execution_count": 25,
   "id": "9e4e24a0-fef7-4211-a615-3798c52214ac",
   "metadata": {},
   "outputs": [
    {
     "data": {
      "image/png": "[encoded data removed]",
      "text/plain": [
       "<Figure size 1000x1500 with 1 Axes>"
      ]
     },
     "metadata": {},
     "output_type": "display_data"
    }
   ],
   "source": [
    "#EDA\n",
    "plt.figure(figsize=(10,15))\n",
    "sns.countplot(data=train_data, y=\"GENRE\", order= train_data[\"GENRE\"].value_counts().index)\n",
    "plt.show()"
   ]
  },
  {
   "cell_type": "code",
   "execution_count": 27,
   "id": "46b21bf8-3bb0-4ea7-9198-13a3ceab8e32",
   "metadata": {},
   "outputs": [
    {
     "name": "stderr",
     "output_type": "stream",
     "text": [
      "C:\\Users\\shiva\\AppData\\Local\\Temp\\ipykernel_7676\\3096700157.py:2: FutureWarning: \n",
      "\n",
      "Passing `palette` without assigning `hue` is deprecated and will be removed in v0.14.0. Assign the `x` variable to `hue` and set `legend=False` for the same effect.\n",
      "\n",
      "  sns.countplot(data=train_data, x=\"GENRE\", order= train_data[\"GENRE\"].value_counts().index, palette = \"YlGnBu\")\n"
     ]
    },
    {
     "data": {
      "image/png": "[encoded data removed]",
      "text/plain": [
       "<Figure size 2700x700 with 1 Axes>"
      ]
     },
     "metadata": {},
     "output_type": "display_data"
    }
   ],
   "source": [
    "plt.figure(figsize=(27,7))\n",
    "sns.countplot(data=train_data, x=\"GENRE\", order= train_data[\"GENRE\"].value_counts().index, palette = \"YlGnBu\")\n",
    "plt.show()"
   ]
  },
  {
   "cell_type": "code",
   "execution_count": 29,
   "id": "dda70a7b-c599-4595-91c7-a16542e4466b",
   "metadata": {},
   "outputs": [],
   "source": [
    "# Step 3: Text Preprocessing function\n",
    "import re\n",
    "from nltk.corpus import stopwords\n",
    "from nltk.tokenize import word_tokenize\n",
    "\n",
    "stop_words = set(stopwords.words('english'))"
   ]
  },
  {
   "cell_type": "code",
   "execution_count": 31,
   "id": "3d40b574-1a81-4d9f-8feb-779b46bf7de3",
   "metadata": {},
   "outputs": [],
   "source": [
    "def preprocess_text(text):\n",
    "    # Lowercase\n",
    "    text = text.lower()\n",
    "    # Remove punctuation and special characters\n",
    "    text = re.sub(r'\\W', ' ', text)\n",
    "    # Remove numbers\n",
    "    text = re.sub(r'\\d+', '', text)\n",
    "    # Tokenize and remove stop words\n",
    "    tokens = word_tokenize(text)\n",
    "    tokens = [word for word in tokens if word not in stop_words]\n",
    "    return ' '.join(tokens)\n"
   ]
  },
  {
   "cell_type": "code",
   "execution_count": 33,
   "id": "ca5bd029-84da-4296-b602-3d014f3b8cd8",
   "metadata": {},
   "outputs": [],
   "source": [
    "# Apply preprocessing to training and test datasets\n",
    "train_data['Cleaned_Description'] = train_data['DESCRIPTION'].apply(preprocess_text)\n",
    "test_data['Cleaned_Description'] = test_data['DESCRIPTION'].apply(preprocess_text)"
   ]
  },
  {
   "cell_type": "code",
   "execution_count": 35,
   "id": "9ccd3ee8-0557-4ee5-8b28-bca7bf7875ce",
   "metadata": {},
   "outputs": [],
   "source": [
    "# Step 4: Feature extraction using TF-IDF\n",
    "tfidf = TfidfVectorizer(max_features=5000)  # Using the top 5000 words\n"
   ]
  },
  {
   "cell_type": "code",
   "execution_count": 37,
   "id": "307555f1-bf85-4237-9810-9af47fe146e9",
   "metadata": {},
   "outputs": [
    {
     "data": {
      "text/html": [
       "<div>\n",
       "<style scoped>\n",
       "    .dataframe tbody tr th:only-of-type {\n",
       "        vertical-align: middle;\n",
       "    }\n",
       "\n",
       "    .dataframe tbody tr th {\n",
       "        vertical-align: top;\n",
       "    }\n",
       "\n",
       "    .dataframe thead th {\n",
       "        text-align: right;\n",
       "    }\n",
       "</style>\n",
       "<table border=\"1\" class=\"dataframe\">\n",
       "  <thead>\n",
       "    <tr style=\"text-align: right;\">\n",
       "      <th></th>\n",
       "      <th>TITLE</th>\n",
       "      <th>GENRE</th>\n",
       "      <th>DESCRIPTION</th>\n",
       "      <th>Cleaned_Description</th>\n",
       "    </tr>\n",
       "  </thead>\n",
       "  <tbody>\n",
       "    <tr>\n",
       "      <th>1</th>\n",
       "      <td>Oscar et la dame rose (2009)</td>\n",
       "      <td>drama</td>\n",
       "      <td>Listening in to a conversation between his do...</td>\n",
       "      <td>listening conversation doctor parents year old...</td>\n",
       "    </tr>\n",
       "    <tr>\n",
       "      <th>2</th>\n",
       "      <td>Cupid (1997)</td>\n",
       "      <td>thriller</td>\n",
       "      <td>A brother and sister with a past incestuous r...</td>\n",
       "      <td>brother sister past incestuous relationship cu...</td>\n",
       "    </tr>\n",
       "    <tr>\n",
       "      <th>3</th>\n",
       "      <td>Young, Wild and Wonderful (1980)</td>\n",
       "      <td>adult</td>\n",
       "      <td>As the bus empties the students for their fie...</td>\n",
       "      <td>bus empties students field trip museum natural...</td>\n",
       "    </tr>\n",
       "    <tr>\n",
       "      <th>4</th>\n",
       "      <td>The Secret Sin (1915)</td>\n",
       "      <td>drama</td>\n",
       "      <td>To help their unemployed father make ends mee...</td>\n",
       "      <td>help unemployed father make ends meet edith tw...</td>\n",
       "    </tr>\n",
       "    <tr>\n",
       "      <th>5</th>\n",
       "      <td>The Unrecovered (2007)</td>\n",
       "      <td>drama</td>\n",
       "      <td>The film's title refers not only to the un-re...</td>\n",
       "      <td>film title refers un recovered bodies ground z...</td>\n",
       "    </tr>\n",
       "    <tr>\n",
       "      <th>...</th>\n",
       "      <td>...</td>\n",
       "      <td>...</td>\n",
       "      <td>...</td>\n",
       "      <td>...</td>\n",
       "    </tr>\n",
       "    <tr>\n",
       "      <th>54210</th>\n",
       "      <td>\"Bonino\" (1953)</td>\n",
       "      <td>comedy</td>\n",
       "      <td>This short-lived NBC live sitcom centered on ...</td>\n",
       "      <td>short lived nbc live sitcom centered bonino wo...</td>\n",
       "    </tr>\n",
       "    <tr>\n",
       "      <th>54211</th>\n",
       "      <td>Dead Girls Don't Cry (????)</td>\n",
       "      <td>horror</td>\n",
       "      <td>The NEXT Generation of EXPLOITATION. The sist...</td>\n",
       "      <td>next generation exploitation sisters kapa bay ...</td>\n",
       "    </tr>\n",
       "    <tr>\n",
       "      <th>54212</th>\n",
       "      <td>Ronald Goedemondt: Ze bestaan echt (2008)</td>\n",
       "      <td>documentary</td>\n",
       "      <td>Ze bestaan echt, is a stand-up comedy about g...</td>\n",
       "      <td>ze bestaan echt stand comedy growing facing fe...</td>\n",
       "    </tr>\n",
       "    <tr>\n",
       "      <th>54213</th>\n",
       "      <td>Make Your Own Bed (1944)</td>\n",
       "      <td>comedy</td>\n",
       "      <td>Walter and Vivian live in the country and hav...</td>\n",
       "      <td>walter vivian live country difficult time keep...</td>\n",
       "    </tr>\n",
       "    <tr>\n",
       "      <th>54214</th>\n",
       "      <td>Nature's Fury: Storm of the Century (2006)</td>\n",
       "      <td>history</td>\n",
       "      <td>On Labor Day Weekend, 1935, the most intense ...</td>\n",
       "      <td>labor day weekend intense hurricane ever make ...</td>\n",
       "    </tr>\n",
       "  </tbody>\n",
       "</table>\n",
       "<p>54214 rows × 4 columns</p>\n",
       "</div>"
      ],
      "text/plain": [
       "                                              TITLE          GENRE  \\\n",
       "1                     Oscar et la dame rose (2009)          drama    \n",
       "2                                     Cupid (1997)       thriller    \n",
       "3                 Young, Wild and Wonderful (1980)          adult    \n",
       "4                            The Secret Sin (1915)          drama    \n",
       "5                           The Unrecovered (2007)          drama    \n",
       "...                                             ...            ...   \n",
       "54210                              \"Bonino\" (1953)         comedy    \n",
       "54211                  Dead Girls Don't Cry (????)         horror    \n",
       "54212    Ronald Goedemondt: Ze bestaan echt (2008)    documentary    \n",
       "54213                     Make Your Own Bed (1944)         comedy    \n",
       "54214   Nature's Fury: Storm of the Century (2006)        history    \n",
       "\n",
       "                                             DESCRIPTION  \\\n",
       "1       Listening in to a conversation between his do...   \n",
       "2       A brother and sister with a past incestuous r...   \n",
       "3       As the bus empties the students for their fie...   \n",
       "4       To help their unemployed father make ends mee...   \n",
       "5       The film's title refers not only to the un-re...   \n",
       "...                                                  ...   \n",
       "54210   This short-lived NBC live sitcom centered on ...   \n",
       "54211   The NEXT Generation of EXPLOITATION. The sist...   \n",
       "54212   Ze bestaan echt, is a stand-up comedy about g...   \n",
       "54213   Walter and Vivian live in the country and hav...   \n",
       "54214   On Labor Day Weekend, 1935, the most intense ...   \n",
       "\n",
       "                                     Cleaned_Description  \n",
       "1      listening conversation doctor parents year old...  \n",
       "2      brother sister past incestuous relationship cu...  \n",
       "3      bus empties students field trip museum natural...  \n",
       "4      help unemployed father make ends meet edith tw...  \n",
       "5      film title refers un recovered bodies ground z...  \n",
       "...                                                  ...  \n",
       "54210  short lived nbc live sitcom centered bonino wo...  \n",
       "54211  next generation exploitation sisters kapa bay ...  \n",
       "54212  ze bestaan echt stand comedy growing facing fe...  \n",
       "54213  walter vivian live country difficult time keep...  \n",
       "54214  labor day weekend intense hurricane ever make ...  \n",
       "\n",
       "[54214 rows x 4 columns]"
      ]
     },
     "execution_count": 37,
     "metadata": {},
     "output_type": "execute_result"
    }
   ],
   "source": [
    "train_data"
   ]
  },
  {
   "cell_type": "code",
   "execution_count": 39,
   "id": "2632cd4a-66ca-49c0-b886-022e33815317",
   "metadata": {},
   "outputs": [],
   "source": [
    "# Fit and transform the training data\n",
    "X_train_tfidf = tfidf.fit_transform(train_data['Cleaned_Description'])\n"
   ]
  },
  {
   "cell_type": "code",
   "execution_count": 43,
   "id": "e3e90b3d-02b9-463f-b8c6-cbe22b071d62",
   "metadata": {},
   "outputs": [],
   "source": [
    "# Only transform the test data (no fit here to avoid data leakage)\n",
    "X_test_tfidf = tfidf.transform(test_data['Cleaned_Description'])"
   ]
  },
  {
   "cell_type": "code",
   "execution_count": 44,
   "id": "23d0759d-7ddb-4227-811e-f23ecc727493",
   "metadata": {},
   "outputs": [],
   "source": [
    "# Step 5: Model training\n",
    "y_train = train_data['GENRE']"
   ]
  },
  {
   "cell_type": "code",
   "execution_count": null,
   "id": "5fc04786-d66a-4ebd-8a00-5f484657f3da",
   "metadata": {},
   "outputs": [],
   "source": [
    "# Train a Logistic Regression model\n",
    "model = LogisticRegression(max_iter=1000)\n",
    "model.fit(X_train_tfidf, y_train)"
   ]
  },
  {
   "cell_type": "code",
   "execution_count": null,
   "id": "19017c43-5e68-4ac9-b58f-59eabd0012d9",
   "metadata": {},
   "outputs": [],
   "source": [
    "# Alternative: You can also use Naive Bayes if preferred\n",
    "# model = MultinomialNB()\n",
    "# model.fit(X_train_tfidf, y_train)"
   ]
  },
  {
   "cell_type": "code",
   "execution_count": null,
   "id": "d7bdb8ba-7211-4be0-a421-607440cd61c6",
   "metadata": {},
   "outputs": [],
   "source": [
    "# Step 6: Predictions on the test set\n",
    "test_predictions = model.predict(X_test_tfidf)"
   ]
  },
  {
   "cell_type": "code",
   "execution_count": null,
   "id": "baf74f26-6a7f-445e-b8b8-8d8aab975552",
   "metadata": {},
   "outputs": [],
   "source": [
    "# Since the test dataset does not have true labels, we only show predictions\n",
    "test_data['Predicted_Genre'] = test_predictions"
   ]
  },
  {
   "cell_type": "code",
   "execution_count": null,
   "id": "1f501712-d4d9-4663-85a4-b73d2785a018",
   "metadata": {},
   "outputs": [],
   "source": [
    "# Save the test predictions\n",
    "test_data[['ID','TITLE','Predicted_Genre']].to_csv('predicted_genres.csv', index=False)\n"
   ]
  },
  {
   "cell_type": "code",
   "execution_count": null,
   "id": "35469ee3-92f5-421e-bc63-054272bf85b6",
   "metadata": {},
   "outputs": [],
   "source": [
    "Prediction = pd.read_csv('predicted_genres.csv')"
   ]
  },
  {
   "cell_type": "code",
   "execution_count": null,
   "id": "63a1b1d4-16a0-458b-a9b3-b8ca02fe752c",
   "metadata": {},
   "outputs": [],
   "source": []
  }
 ],
 "metadata": {
  "kernelspec": {
   "display_name": "Python 3 (ipykernel)",
   "language": "python",
   "name": "python3"
  },
  "language_info": {
   "codemirror_mode": {
    "name": "ipython",
    "version": 3
   },
   "file_extension": ".py",
   "mimetype": "text/x-python",
   "name": "python",
   "nbconvert_exporter": "python",
   "pygments_lexer": "ipython3",
   "version": "3.12.4"
  }
 },
 "nbformat": 4,
 "nbformat_minor": 5
}
